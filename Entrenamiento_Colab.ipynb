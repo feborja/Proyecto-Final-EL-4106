{
  "cells": [
    {
      "attachments": {},
      "cell_type": "markdown",
      "metadata": {
        "id": "t8WBImasmPk2"
      },
      "source": [
        "# Proyecto final Inteligencia Computacional\n",
        "## Style Transfer\n",
        "## ENTRENAMIENTO\n",
        "### [Ammi Beltrán Troppa, Fernanda Borja Muñoz]"
      ]
    },
    {
      "cell_type": "markdown",
      "metadata": {
        "id": "4y3kDcpVmUeK"
      },
      "source": [
        "# Imports"
      ]
    },
    {
      "cell_type": "code",
      "execution_count": null,
      "metadata": {
        "id": "1se1aIUKbQJw"
      },
      "outputs": [],
      "source": [
        "import os\n",
        "import io\n",
        "import sys\n",
        "import time\n",
        "#\n",
        "import numpy as np\n",
        "import torch\n",
        "from torch import nn\n",
        "import torchvision\n",
        "from matplotlib import pyplot as plt\n",
        "#\n",
        "import zipfile\n",
        "#\n",
        "from PIL import Image\n",
        "from torch.utils.data import Dataset\n",
        "from natsort import natsorted\n",
        "from torchvision import datasets, transforms"
      ]
    },
    {
      "cell_type": "markdown",
      "metadata": {
        "id": "IS6wmmwomWYZ"
      },
      "source": [
        "# Encoder y Decoder"
      ]
    },
    {
      "cell_type": "code",
      "execution_count": null,
      "metadata": {
        "id": "4XLSo7UPb2Y_"
      },
      "outputs": [],
      "source": [
        "class Encoder(nn.Module):\n",
        "  def __init__(self,layer = 15):\n",
        "    super().__init__()\n",
        "    fully_model = torchvision.models.vgg16(weights = torchvision.models.vgg.VGG16_Weights.DEFAULT).eval().features\n",
        "    self.model = fully_model[:layer + 1]\n",
        "\n",
        "  def forward(self,x):\n",
        "    return self.model(x)"
      ]
    },
    {
      "cell_type": "code",
      "execution_count": null,
      "metadata": {
        "colab": {
          "base_uri": "https://localhost:8080/",
          "height": 413,
          "referenced_widgets": [
            "d9ec4728858140c1b1e15884218edadd",
            "9dff04b327354fe9a32e7d58939ec9c7",
            "0f2fe0b51e0e4337921ad36717b9d873",
            "f0d24856694a409fb846fd411bec9c22",
            "1d64cb02e3e5412e84981579274e0968",
            "73034e61caac434eb2a623d769a0f11c",
            "c9183f7db9a74d18a442dcb5de610bd7",
            "2b040f9f106a4356a9d9b9a69b578910",
            "419776a16cf2425189030ec80b7caf30",
            "96f4c32802d44f5a9250f29b02066fa0",
            "3518f8bc18e54933a3c11e71290e7b02"
          ]
        },
        "id": "VuHJpqFIeGhu",
        "outputId": "2cc26615-2320-4b64-af7e-17837ffc8a9a"
      },
      "outputs": [
        {
          "name": "stderr",
          "output_type": "stream",
          "text": [
            "Downloading: \"https://download.pytorch.org/models/vgg16-397923af.pth\" to /root/.cache/torch/hub/checkpoints/vgg16-397923af.pth\n"
          ]
        },
        {
          "data": {
            "application/vnd.jupyter.widget-view+json": {
              "model_id": "d9ec4728858140c1b1e15884218edadd",
              "version_major": 2,
              "version_minor": 0
            },
            "text/plain": [
              "  0%|          | 0.00/528M [00:00<?, ?B/s]"
            ]
          },
          "metadata": {},
          "output_type": "display_data"
        },
        {
          "data": {
            "text/plain": [
              "Encoder(\n",
              "  (model): Sequential(\n",
              "    (0): Conv2d(3, 64, kernel_size=(3, 3), stride=(1, 1), padding=(1, 1))\n",
              "    (1): ReLU(inplace=True)\n",
              "    (2): Conv2d(64, 64, kernel_size=(3, 3), stride=(1, 1), padding=(1, 1))\n",
              "    (3): ReLU(inplace=True)\n",
              "    (4): MaxPool2d(kernel_size=2, stride=2, padding=0, dilation=1, ceil_mode=False)\n",
              "    (5): Conv2d(64, 128, kernel_size=(3, 3), stride=(1, 1), padding=(1, 1))\n",
              "    (6): ReLU(inplace=True)\n",
              "    (7): Conv2d(128, 128, kernel_size=(3, 3), stride=(1, 1), padding=(1, 1))\n",
              "    (8): ReLU(inplace=True)\n",
              "    (9): MaxPool2d(kernel_size=2, stride=2, padding=0, dilation=1, ceil_mode=False)\n",
              "    (10): Conv2d(128, 256, kernel_size=(3, 3), stride=(1, 1), padding=(1, 1))\n",
              "    (11): ReLU(inplace=True)\n",
              "    (12): Conv2d(256, 256, kernel_size=(3, 3), stride=(1, 1), padding=(1, 1))\n",
              "    (13): ReLU(inplace=True)\n",
              "    (14): Conv2d(256, 256, kernel_size=(3, 3), stride=(1, 1), padding=(1, 1))\n",
              "    (15): ReLU(inplace=True)\n",
              "  )\n",
              ")"
            ]
          },
          "execution_count": 3,
          "metadata": {},
          "output_type": "execute_result"
        }
      ],
      "source": [
        "Encode = Encoder(layer = 15)\n",
        "Encode"
      ]
    },
    {
      "cell_type": "code",
      "execution_count": null,
      "metadata": {
        "id": "dMVZVCTzgoDp"
      },
      "outputs": [],
      "source": [
        "class Decoder(nn.Module):\n",
        "  def __init__(self,layer = 14):\n",
        "    super().__init__()\n",
        "    fully_decoder = nn.Sequential(\n",
        "        # Primera capa\n",
        "        nn.Upsample(scale_factor=(2,2), mode='nearest'),\n",
        "        nn.Conv2d(512, 512, kernel_size=(3, 3), stride=(1, 1), padding=(1, 1)),\n",
        "        nn.ReLU(inplace = True),\n",
        "        nn.Conv2d(512, 512, kernel_size=(3, 3), stride=(1, 1), padding=(1, 1)),\n",
        "        nn.ReLU(inplace = True),\n",
        "        nn.Conv2d(512, 512, kernel_size=(3, 3), stride=(1, 1), padding=(1, 1)),\n",
        "        nn.ReLU(inplace = True),\n",
        "        \n",
        "        # Segunda Capa\n",
        "        nn.Upsample(scale_factor=(2,2), mode='nearest'),\n",
        "        nn.Conv2d(512, 512, kernel_size=(3, 3), stride=(1, 1), padding=(1, 1)),\n",
        "        nn.ReLU(inplace = True),\n",
        "        nn.Conv2d(512, 512, kernel_size=(3, 3), stride=(1, 1), padding=(1, 1)),\n",
        "        nn.ReLU(inplace = True),\n",
        "        nn.Conv2d(512, 256, kernel_size=(3, 3), stride=(1, 1), padding=(1, 1)),\n",
        "\n",
        "        #Tercera Capa\n",
        "        nn.Upsample(scale_factor=(2,2), mode='nearest'),\n",
        "        nn.Conv2d(256, 256, kernel_size=(3, 3), stride=(1, 1), padding=(1, 1)),\n",
        "        nn.ReLU(inplace = True),\n",
        "        nn.Conv2d(256, 256, kernel_size=(3, 3), stride=(1, 1), padding=(1, 1)),\n",
        "        nn.ReLU(inplace = True),\n",
        "        nn.Conv2d(256, 128, kernel_size=(3, 3), stride=(1, 1), padding=(1, 1)),\n",
        "        nn.ReLU(inplace = True),\n",
        "        \n",
        "\n",
        "        #Cuarta Capa\n",
        "        nn.Upsample(scale_factor=(2,2), mode='nearest'),\n",
        "        nn.Conv2d(128, 128, kernel_size=(3, 3), stride=(1, 1), padding=(1, 1)),\n",
        "        nn.ReLU(inplace = True),\n",
        "        nn.Conv2d(128, 64, kernel_size=(3, 3), stride=(1, 1), padding=(1, 1)),\n",
        "        nn.ReLU(inplace = True),\n",
        "        \n",
        "\n",
        "        #Quinta Capa\n",
        "        nn.Upsample(scale_factor=(2,2), mode='nearest'),\n",
        "        nn.Conv2d(64, 64, kernel_size=(3, 3), stride=(1, 1), padding=(1, 1)),\n",
        "        nn.ReLU(inplace = True),\n",
        "        nn.Conv2d(64, 3, kernel_size=(3, 3), stride=(1, 1), padding=(1, 1)),\n",
        "        nn.ReLU(inplace = True), \n",
        "    )\n",
        "    self.model = fully_decoder[layer:29 ]\n",
        "\n",
        "  def forward(self,x):\n",
        "    return self.model(x)"
      ]
    },
    {
      "cell_type": "code",
      "execution_count": null,
      "metadata": {
        "colab": {
          "base_uri": "https://localhost:8080/"
        },
        "id": "PzPXAF9PmA5U",
        "outputId": "0f89aeb0-bb71-46a1-8773-f45116987be6"
      },
      "outputs": [
        {
          "data": {
            "text/plain": [
              "Decoder(\n",
              "  (model): Sequential(\n",
              "    (14): Conv2d(256, 256, kernel_size=(3, 3), stride=(1, 1), padding=(1, 1))\n",
              "    (15): ReLU(inplace=True)\n",
              "    (16): Conv2d(256, 256, kernel_size=(3, 3), stride=(1, 1), padding=(1, 1))\n",
              "    (17): ReLU(inplace=True)\n",
              "    (18): Conv2d(256, 128, kernel_size=(3, 3), stride=(1, 1), padding=(1, 1))\n",
              "    (19): ReLU(inplace=True)\n",
              "    (20): Upsample(scale_factor=(2.0, 2.0), mode=nearest)\n",
              "    (21): Conv2d(128, 128, kernel_size=(3, 3), stride=(1, 1), padding=(1, 1))\n",
              "    (22): ReLU(inplace=True)\n",
              "    (23): Conv2d(128, 64, kernel_size=(3, 3), stride=(1, 1), padding=(1, 1))\n",
              "    (24): ReLU(inplace=True)\n",
              "    (25): Upsample(scale_factor=(2.0, 2.0), mode=nearest)\n",
              "    (26): Conv2d(64, 64, kernel_size=(3, 3), stride=(1, 1), padding=(1, 1))\n",
              "    (27): ReLU(inplace=True)\n",
              "    (28): Conv2d(64, 3, kernel_size=(3, 3), stride=(1, 1), padding=(1, 1))\n",
              "  )\n",
              ")"
            ]
          },
          "execution_count": 5,
          "metadata": {},
          "output_type": "execute_result"
        }
      ],
      "source": [
        "Decode = Decoder(layer = 14)\n",
        "Decode"
      ]
    },
    {
      "cell_type": "markdown",
      "metadata": {
        "id": "guEQ4Z01mhIo"
      },
      "source": [
        "# Data "
      ]
    },
    {
      "cell_type": "markdown",
      "metadata": {
        "id": "IrKIfPwm6CSp"
      },
      "source": [
        "## Colab"
      ]
    },
    {
      "cell_type": "code",
      "execution_count": null,
      "metadata": {
        "colab": {
          "base_uri": "https://localhost:8080/"
        },
        "id": "LvQ2tIKC6CSq",
        "outputId": "11cab67f-9c78-483d-ad64-3a9271ba09b9"
      },
      "outputs": [
        {
          "name": "stdout",
          "output_type": "stream",
          "text": [
            "Mounted at /content/drive/\n"
          ]
        }
      ],
      "source": [
        "from google.colab import drive\n",
        "drive.mount(\"/content/drive/\", force_remount=True)"
      ]
    },
    {
      "cell_type": "code",
      "execution_count": null,
      "metadata": {
        "colab": {
          "base_uri": "https://localhost:8080/"
        },
        "id": "_TieqYR4D0Qj",
        "outputId": "10169f52-c3f2-44d4-97b0-e548dd99296a"
      },
      "outputs": [
        {
          "name": "stdout",
          "output_type": "stream",
          "text": [
            "cp: cannot stat '/content/drive/MyDrive/data/val2014.zip': No such file or directory\n",
            "unzip:  cannot find or open /content/val2014.zip, /content/val2014.zip.zip or /content/val2014.zip.ZIP.\n",
            "rm: cannot remove '/content/val2014.zip': No such file or directory\n"
          ]
        }
      ],
      "source": [
        "!cp /content/drive/MyDrive/data/val2017.zip /content/\n",
        "!unzip -qo /content/val2017.zip -d /content/\n",
        "!rm /content/val2017.zip"
      ]
    },
    {
      "cell_type": "code",
      "execution_count": null,
      "metadata": {
        "id": "2fLj-9VzMPMb"
      },
      "outputs": [],
      "source": [
        "!cp /content/drive/MyDrive/data/test2014.zip /content/\n",
        "!unzip -qo /content/test2014.zip -d /content/\n",
        "!rm /content/test2014.zip"
      ]
    },
    {
      "cell_type": "markdown",
      "metadata": {
        "id": "gbilmKKto4R2"
      },
      "source": [
        "Aprovecho de crear el array de entrenamiento"
      ]
    },
    {
      "cell_type": "code",
      "execution_count": null,
      "metadata": {
        "id": "yQlIJTZc6CSr"
      },
      "outputs": [],
      "source": [
        "dir = \"/content/test2014\"\n",
        "obj = natsorted(os.listdir(dir))\n",
        "# #Entonces puedo armar una lista con todas las direcciones\n",
        "dirTrain = []\n",
        "for i in range(0, len(obj)):\n",
        "   dirTrain.append(os.path.join(dir, obj[i]))"
      ]
    },
    {
      "cell_type": "code",
      "execution_count": null,
      "metadata": {
        "colab": {
          "base_uri": "https://localhost:8080/"
        },
        "id": "qo6vZqaFn-ZZ",
        "outputId": "aa05b20a-f8e9-443a-91f8-30cddacbbcb0"
      },
      "outputs": [
        {
          "data": {
            "text/plain": [
              "40775"
            ]
          },
          "execution_count": 13,
          "metadata": {},
          "output_type": "execute_result"
        }
      ],
      "source": [
        "len(dirTrain)"
      ]
    },
    {
      "cell_type": "markdown",
      "metadata": {
        "id": "3WhCZVYEthq8"
      },
      "source": [
        "Y el de validacion"
      ]
    },
    {
      "cell_type": "code",
      "execution_count": null,
      "metadata": {
        "id": "9K5Pw5q1tkex"
      },
      "outputs": [],
      "source": [
        "dir = \"/content/val2014\"\n",
        "obj = natsorted(os.listdir(dir))\n",
        "# #Entonces puedo armar una lista con todas las direcciones\n",
        "dirVal = []\n",
        "for i in range(0, len(obj)):\n",
        "   dirVal.append(os.path.join(dir, obj[i]))"
      ]
    },
    {
      "cell_type": "code",
      "execution_count": null,
      "metadata": {
        "colab": {
          "base_uri": "https://localhost:8080/"
        },
        "id": "sZgSKwZLtw6s",
        "outputId": "3726403d-824d-469c-8848-b2e91b0806fa"
      },
      "outputs": [
        {
          "data": {
            "text/plain": [
              "5000"
            ]
          },
          "execution_count": 12,
          "metadata": {},
          "output_type": "execute_result"
        }
      ],
      "source": [
        "len(dirVal)"
      ]
    },
    {
      "cell_type": "markdown",
      "metadata": {
        "id": "-mYpfEsfba4S"
      },
      "source": [
        "# Dataset"
      ]
    },
    {
      "cell_type": "markdown",
      "metadata": {
        "id": "rMb5HvsM6CSu"
      },
      "source": [
        "Transformaciones"
      ]
    },
    {
      "cell_type": "code",
      "execution_count": null,
      "metadata": {
        "id": "Gz6fhhyJCgQJ"
      },
      "outputs": [],
      "source": [
        "#Transformación para imagenes \n",
        "transform1 = transforms.Compose([\n",
        "            transforms.Resize((256,256)),\n",
        "            transforms.CenterCrop(224),\n",
        "            transforms.ToTensor(),\n",
        "            transforms.Normalize((0.485, 0.456, 0.406), (0.229, 0.224, 0.225)),\n",
        "            ])"
      ]
    },
    {
      "cell_type": "markdown",
      "metadata": {
        "id": "WnVTF6Ry6CSv"
      },
      "source": [
        "Dataset Antiguo"
      ]
    },
    {
      "cell_type": "code",
      "execution_count": null,
      "metadata": {
        "id": "RQhQmQuC86mQ"
      },
      "outputs": [],
      "source": [
        "class CustomDataSet(Dataset):\n",
        "    def __init__(self, imagelist, transform, encoder):\n",
        "        super().__init__()\n",
        "        self.imagepaths = imagelist\n",
        "        self.transform = transform\n",
        "        self.encoder = encoder\n",
        "\n",
        "    def __len__(self):\n",
        "        return len(self.imagepaths)\n",
        "\n",
        "    def __getitem__(self, index):\n",
        "        imagepath = self.imagepaths[index]\n",
        "        image = Image.open(imagepath).convert('RGB')\n",
        "        \n",
        "        Norm_image = self.transform(image)\n",
        "        feature = self.encoder(Norm_image.to('cuda'))\n",
        "        \n",
        "        return feature.cpu(), Norm_image.cpu()"
      ]
    },
    {
      "cell_type": "code",
      "execution_count": null,
      "metadata": {
        "id": "E2REaiqR84M5"
      },
      "outputs": [],
      "source": [
        "Data = CustomDataSet(dirTrain, transform = transform1, encoder = Encode)\n",
        "Val = CustomDataSet(dirVal, transform = transform1, encoder = Encode)"
      ]
    },
    {
      "cell_type": "markdown",
      "metadata": {
        "id": "wD3EZOBJmMlZ"
      },
      "source": [
        "# Código entrenamiento"
      ]
    },
    {
      "cell_type": "code",
      "execution_count": null,
      "metadata": {
        "id": "6fa-JeZYmDmY"
      },
      "outputs": [],
      "source": [
        "class DecoderLoss(nn.Module):\n",
        "  def __init__(self,weight = 1):\n",
        "    super().__init__()\n",
        "    self.weight = weight\n",
        "  \n",
        "  def forward(self, ydif, fdif): \n",
        "    reconst = torch.norm(ydif)**2\n",
        "    features = self.weight * torch.norm(fdif)**2\n",
        "    return reconst + features\n",
        "  "
      ]
    },
    {
      "cell_type": "code",
      "execution_count": null,
      "metadata": {
        "id": "2JGsDYS8nIlf"
      },
      "outputs": [],
      "source": [
        "def show_curves(curves):\n",
        "    fig, (ax1, ax2) = plt.subplots(1,2,figsize=(13, 5))\n",
        "    fig.set_facecolor('white')\n",
        "\n",
        "    epochs = np.arange(len(curves[\"val_loss\"])) + 1\n",
        "\n",
        "    ax2.plot(epochs, curves['train_loss'], label='Training',color='r')\n",
        "    ax2.set_xlabel('Epoch')\n",
        "    ax2.set_ylabel('Loss')\n",
        "    ax2.set_title('Loss evolution during training (Training)')\n",
        "    ax2.legend()\n",
        "\n",
        "\n",
        "    ax1.plot(epochs, curves['val_loss'], label='Validation', color='b')\n",
        "    ax1.set_xlabel('Epoch')\n",
        "    ax1.set_ylabel('Loss')\n",
        "    ax1.set_title('Loss evolution during training (Validation)')\n",
        "    ax1.legend()\n",
        "\n",
        "    plt.show()"
      ]
    },
    {
      "cell_type": "code",
      "execution_count": null,
      "metadata": {
        "id": "VeP3psM2nN3_"
      },
      "outputs": [],
      "source": [
        "def train_step(x_batch, y_batch, model, optimizer, criterion, deco,use_gpu = False ):\n",
        "    # Predicción\n",
        "    y_predicted = model(x_batch)\n",
        "\n",
        "    ydif = y_predicted - y_batch\n",
        "    fdif = deco(y_predicted) - x_batch #deco(y_batch)\n",
        "\n",
        "    # Cálculo de loss\n",
        "    loss = criterion(ydif, fdif)\n",
        "\n",
        "    # Actualización de parámetros\n",
        "    optimizer.zero_grad()\n",
        "    loss.backward()\n",
        "    optimizer.step()\n",
        "\n",
        "    return y_predicted, loss\n",
        "\n",
        "def evaluate(val_loader, model, criterion, deco , use_gpu = False):\n",
        "    cumulative_loss = 0\n",
        "\n",
        "    for x_val, y_val in val_loader:\n",
        "\n",
        "        if use_gpu:\n",
        "            x_val = x_val.cuda()\n",
        "            y_val = y_val.cuda()\n",
        "\n",
        "        y_predicted = model(x_val)\n",
        "        ydif = y_predicted - y_val\n",
        "        fdif = deco(y_predicted) - x_val #deco(y_val)\n",
        "\n",
        "        \n",
        "        loss = criterion(ydif, fdif)\n",
        "\n",
        "        cumulative_loss += loss.item()\n",
        "        del x_val, y_val\n",
        "    val_loss = cumulative_loss / len(val_loader)\n",
        "\n",
        "    return val_loss\n",
        "\n",
        "\n",
        "def train_model(\n",
        "    model,\n",
        "    train_dataset,\n",
        "    val_dataset,\n",
        "    epochs,\n",
        "    criterion,\n",
        "    batch_size,\n",
        "    lr,\n",
        "    n_evaluations_per_epoch=30,\n",
        "    use_gpu=False,\n",
        "    name = 'Deco',\n",
        "    deco = Encode,\n",
        "    perdida = 'loser',\n",
        "    lastEpoch = 0\n",
        "):\n",
        "    deco.cpu()\n",
        "    model.cpu()\n",
        "    if use_gpu:\n",
        "        model.cuda()\n",
        "        Encode.cuda()\n",
        "\n",
        "    # Definición de dataloader\n",
        "    train_loader = torch.utils.data.DataLoader(train_dataset, batch_size=batch_size, shuffle=True, num_workers=0, pin_memory=use_gpu)\n",
        "    val_loader = torch.utils.data.DataLoader(val_dataset, batch_size=int(len(val_dataset)/20), shuffle=False, pin_memory=use_gpu) #batch_size=len(val_dataset)\n",
        "\n",
        "    # Optimizador\n",
        "    #optimizer = torch.optim.Adam(model.parameters(), lr=lr)\n",
        "\n",
        "    # Listas para guardar curvas de entrenamiento\n",
        "    if  os.path.exists(perdida + \".pt\"):\n",
        "        curves = torch.load(f'{perdida}.pt')\n",
        "    else:\n",
        "        curves = {\n",
        "            \"train_loss\": [],\n",
        "            \"val_loss\": [],\n",
        "        }\n",
        "\n",
        "    t0 = time.perf_counter()\n",
        "\n",
        "    iteration = 0\n",
        "\n",
        "    n_batches = len(train_loader)\n",
        "\n",
        "    best_valid_loss = float('inf')\n",
        "\n",
        "    for epoch in range(epochs):\n",
        "        optimizer = torch.optim.Adam(model.parameters(), lr=lr)\n",
        "        print(f\"\\rEpoch {epoch + lastEpoch + 1}/{epochs + lastEpoch}\")\n",
        "        cumulative_train_loss = 0\n",
        "        train_loss_count = 0\n",
        "       \n",
        "\n",
        "        # Entrenamiento del modelo\n",
        "        model.train()\n",
        "        for i, (x_batch, y_batch) in enumerate(train_loader):\n",
        "            if use_gpu:\n",
        "                x_batch = x_batch.cuda()\n",
        "                y_batch = y_batch.cuda()\n",
        "\n",
        "\n",
        "            y_predicted, loss = train_step(x_batch, y_batch, model, optimizer, criterion, deco,use_gpu )\n",
        "\n",
        "            cumulative_train_loss += loss.item()\n",
        "            train_loss_count += 1\n",
        "\n",
        "\n",
        "            if (i % (n_batches // n_evaluations_per_epoch) == 0) and (i > 0):\n",
        "                train_loss = cumulative_train_loss / train_loss_count\n",
        "\n",
        "                print(f\"Iteration {iteration} - Batch {i}/{len(train_loader)} - Train loss: {train_loss}\")\n",
        "\n",
        "            iteration += 1\n",
        "            del x_batch, y_batch\n",
        "\n",
        "        model.eval()\n",
        "        with torch.no_grad():\n",
        "            val_loss = evaluate(val_loader, model, criterion,deco, use_gpu)\n",
        "\n",
        "        #if val_loss < best_valid_loss:\n",
        "        #   best_valid_loss = val_loss\n",
        "        torch.save(model.state_dict(), f'{name}{epoch + lastEpoch + 1}.pt')\n",
        "\n",
        "        print(f\"Val loss: {val_loss}\")\n",
        "\n",
        "        train_loss = cumulative_train_loss / train_loss_count\n",
        "\n",
        "        curves[\"train_loss\"].append(train_loss)\n",
        "        curves[\"val_loss\"].append(val_loss)\n",
        "\n",
        "        torch.save(curves, f'{perdida}.pt')\n",
        "\n",
        "    print()\n",
        "    print(f\"Tiempo total de entrenamiento: {time.perf_counter() - t0:.4f} [s]\")\n",
        "\n",
        "    model.load_state_dict(torch.load(f'{name}{epoch + lastEpoch + 1}.pt'))\n",
        "\n",
        "    return show_curves(curves)"
      ]
    },
    {
      "cell_type": "markdown",
      "metadata": {
        "id": "qwgbdmWUgxQ_"
      },
      "source": [
        "# Entrenamiento"
      ]
    },
    {
      "cell_type": "markdown",
      "metadata": {
        "id": "TufUoTXV6CS2"
      },
      "source": [
        "### Forma nueva"
      ]
    },
    {
      "cell_type": "code",
      "execution_count": null,
      "metadata": {
        "colab": {
          "base_uri": "https://localhost:8080/"
        },
        "id": "7vAtdF_mEQKD",
        "outputId": "70e3ddbb-c3a0-40e8-fbda-94b0dfd0de98"
      },
      "outputs": [
        {
          "data": {
            "text/plain": [
              "<All keys matched successfully>"
            ]
          },
          "execution_count": 19,
          "metadata": {},
          "output_type": "execute_result"
        }
      ],
      "source": [
        "Decode.load_state_dict(torch.load('3L-16.pt'))"
      ]
    },
    {
      "cell_type": "code",
      "execution_count": null,
      "metadata": {
        "colab": {
          "base_uri": "https://localhost:8080/"
        },
        "id": "k-BMcAUK6CS2",
        "outputId": "e43bbeb7-5627-407c-9fa1-d452faceebee"
      },
      "outputs": [
        {
          "name": "stdout",
          "output_type": "stream",
          "text": [
            "\rEpoch 17/21\n",
            "Iteration 45 - Batch 45/904 - Train loss: 145040806.4347826\n",
            "Iteration 90 - Batch 90/904 - Train loss: 115072689.23076923\n",
            "Iteration 135 - Batch 135/904 - Train loss: 102772837.11764705\n",
            "Iteration 180 - Batch 180/904 - Train loss: 96495074.6961326\n",
            "Iteration 225 - Batch 225/904 - Train loss: 91885257.36283186\n",
            "Iteration 270 - Batch 270/904 - Train loss: 89374969.88929889\n",
            "Iteration 315 - Batch 315/904 - Train loss: 86807238.73417722\n",
            "Iteration 360 - Batch 360/904 - Train loss: 84956622.27146815\n",
            "Iteration 405 - Batch 405/904 - Train loss: 83477479.30049261\n",
            "Iteration 450 - Batch 450/904 - Train loss: 82189091.654102\n",
            "Iteration 495 - Batch 495/904 - Train loss: 81190390.41129032\n",
            "Iteration 540 - Batch 540/904 - Train loss: 80413684.11090574\n",
            "Iteration 585 - Batch 585/904 - Train loss: 79549324.0887372\n",
            "Iteration 630 - Batch 630/904 - Train loss: 79042294.65610142\n",
            "Iteration 675 - Batch 675/904 - Train loss: 78618821.05325444\n",
            "Iteration 720 - Batch 720/904 - Train loss: 78178864.85436893\n",
            "Iteration 765 - Batch 765/904 - Train loss: 77884395.08616188\n",
            "Iteration 810 - Batch 810/904 - Train loss: 77435669.43526511\n",
            "Iteration 855 - Batch 855/904 - Train loss: 77184452.44859813\n",
            "Iteration 900 - Batch 900/904 - Train loss: 76920780.32852386\n",
            "Val loss: 388602883.2\n",
            "Epoch 18/21\n",
            "Iteration 949 - Batch 45/904 - Train loss: 150334572.3478261\n",
            "Iteration 994 - Batch 90/904 - Train loss: 114120493.8901099\n",
            "Iteration 1039 - Batch 135/904 - Train loss: 100447524.73529412\n",
            "Iteration 1084 - Batch 180/904 - Train loss: 93434293.12707183\n",
            "Iteration 1129 - Batch 225/904 - Train loss: 89010699.02654867\n",
            "Iteration 1174 - Batch 270/904 - Train loss: 85838055.69003691\n",
            "Iteration 1219 - Batch 315/904 - Train loss: 83772158.16455697\n",
            "Iteration 1264 - Batch 360/904 - Train loss: 81992987.50138505\n",
            "Iteration 1309 - Batch 405/904 - Train loss: 80950097.97044335\n",
            "Iteration 1354 - Batch 450/904 - Train loss: 79760477.135255\n",
            "Iteration 1399 - Batch 495/904 - Train loss: 79352086.14516129\n",
            "Iteration 1444 - Batch 540/904 - Train loss: 78560963.10536045\n",
            "Iteration 1489 - Batch 585/904 - Train loss: 78052419.45392491\n",
            "Iteration 1534 - Batch 630/904 - Train loss: 77594171.91125198\n",
            "Iteration 1579 - Batch 675/904 - Train loss: 77146032.98224851\n",
            "Iteration 1624 - Batch 720/904 - Train loss: 76739173.259362\n",
            "Iteration 1669 - Batch 765/904 - Train loss: 76321465.12793733\n",
            "Iteration 1714 - Batch 810/904 - Train loss: 76007564.6510481\n",
            "Iteration 1759 - Batch 855/904 - Train loss: 75716589.77102804\n",
            "Iteration 1804 - Batch 900/904 - Train loss: 75616493.74472807\n",
            "Val loss: 397316956.8\n",
            "Epoch 19/21\n",
            "Iteration 1853 - Batch 45/904 - Train loss: 154149186.95652175\n",
            "Iteration 1898 - Batch 90/904 - Train loss: 116644884.04395604\n",
            "Iteration 1943 - Batch 135/904 - Train loss: 101745019.1764706\n",
            "Iteration 1988 - Batch 180/904 - Train loss: 94634848.22099447\n",
            "Iteration 2033 - Batch 225/904 - Train loss: 89927094.37168142\n",
            "Iteration 2078 - Batch 270/904 - Train loss: 87046349.22509225\n",
            "Iteration 2123 - Batch 315/904 - Train loss: 84825955.88607594\n",
            "Iteration 2168 - Batch 360/904 - Train loss: 82952399.06925207\n",
            "Iteration 2213 - Batch 405/904 - Train loss: 81521129.47783251\n",
            "Iteration 2258 - Batch 450/904 - Train loss: 80581628.03547671\n",
            "Iteration 2303 - Batch 495/904 - Train loss: 79726130.73387097\n",
            "Iteration 2348 - Batch 540/904 - Train loss: 78795440.7245841\n",
            "Iteration 2393 - Batch 585/904 - Train loss: 78067932.3003413\n",
            "Iteration 2438 - Batch 630/904 - Train loss: 77420492.10776545\n",
            "Iteration 2483 - Batch 675/904 - Train loss: 77290806.11242604\n",
            "Iteration 2528 - Batch 720/904 - Train loss: 76824120.09986131\n",
            "Iteration 2573 - Batch 765/904 - Train loss: 76494328.90339425\n",
            "Iteration 2618 - Batch 810/904 - Train loss: 76155208.45869297\n",
            "Iteration 2663 - Batch 855/904 - Train loss: 75783680.80841121\n",
            "Iteration 2708 - Batch 900/904 - Train loss: 75479766.90344062\n",
            "Val loss: 387045465.6\n",
            "Epoch 20/21\n",
            "Iteration 2757 - Batch 45/904 - Train loss: 146496599.47826087\n",
            "Iteration 2802 - Batch 90/904 - Train loss: 113462216.08791208\n",
            "Iteration 2847 - Batch 135/904 - Train loss: 100151185.35294117\n"
          ]
        }
      ],
      "source": [
        "epochs = 5\n",
        "criterion = DecoderLoss()\n",
        "batch_size = 45\n",
        "lr = 1 * 10**(-3)\n",
        "use_gpu = True\n",
        "name = f'3L-' #Nombre de como queremos que se guarde el mejor modelo resultante de cada época\n",
        "perdida = 'loss-3L'\n",
        "lastEpoch = 16\n",
        "train_model(\n",
        "    model = Decode,\n",
        "    train_dataset = Data, val_dataset = Val,\n",
        "    epochs = epochs, \n",
        "    criterion = criterion,\n",
        "    batch_size = batch_size, lr = lr,\n",
        "    use_gpu = use_gpu,\n",
        "    n_evaluations_per_epoch =20 , #334 #Cada cuantos batches te muestra el progreso de loss de entrenamiento\n",
        "    name = name,\n",
        "    perdida = perdida,\n",
        "    lastEpoch = lastEpoch\n",
        "    )"
      ]
    }
  ],
  "metadata": {
    "accelerator": "GPU",
    "colab": {
      "provenance": []
    },
    "gpuClass": "standard",
    "kernelspec": {
      "display_name": "Python 3.10.4 ('ICtarea')",
      "language": "python",
      "name": "python3"
    },
    "language_info": {
      "codemirror_mode": {
        "name": "ipython",
        "version": 3
      },
      "file_extension": ".py",
      "mimetype": "text/x-python",
      "name": "python",
      "nbconvert_exporter": "python",
      "pygments_lexer": "ipython3",
      "version": "3.10.4"
    },
    "vscode": {
      "interpreter": {
        "hash": "23b0c4c3d39e8107dda2b4e30e9bd026cc74ff732b4fd7eec437a19df88011bd"
      }
    },
    "widgets": {
      "application/vnd.jupyter.widget-state+json": {
        "0f2fe0b51e0e4337921ad36717b9d873": {
          "model_module": "@jupyter-widgets/controls",
          "model_module_version": "1.5.0",
          "model_name": "FloatProgressModel",
          "state": {
            "_dom_classes": [],
            "_model_module": "@jupyter-widgets/controls",
            "_model_module_version": "1.5.0",
            "_model_name": "FloatProgressModel",
            "_view_count": null,
            "_view_module": "@jupyter-widgets/controls",
            "_view_module_version": "1.5.0",
            "_view_name": "ProgressView",
            "bar_style": "success",
            "description": "",
            "description_tooltip": null,
            "layout": "IPY_MODEL_2b040f9f106a4356a9d9b9a69b578910",
            "max": 553433881,
            "min": 0,
            "orientation": "horizontal",
            "style": "IPY_MODEL_419776a16cf2425189030ec80b7caf30",
            "value": 553433881
          }
        },
        "1d64cb02e3e5412e84981579274e0968": {
          "model_module": "@jupyter-widgets/base",
          "model_module_version": "1.2.0",
          "model_name": "LayoutModel",
          "state": {
            "_model_module": "@jupyter-widgets/base",
            "_model_module_version": "1.2.0",
            "_model_name": "LayoutModel",
            "_view_count": null,
            "_view_module": "@jupyter-widgets/base",
            "_view_module_version": "1.2.0",
            "_view_name": "LayoutView",
            "align_content": null,
            "align_items": null,
            "align_self": null,
            "border": null,
            "bottom": null,
            "display": null,
            "flex": null,
            "flex_flow": null,
            "grid_area": null,
            "grid_auto_columns": null,
            "grid_auto_flow": null,
            "grid_auto_rows": null,
            "grid_column": null,
            "grid_gap": null,
            "grid_row": null,
            "grid_template_areas": null,
            "grid_template_columns": null,
            "grid_template_rows": null,
            "height": null,
            "justify_content": null,
            "justify_items": null,
            "left": null,
            "margin": null,
            "max_height": null,
            "max_width": null,
            "min_height": null,
            "min_width": null,
            "object_fit": null,
            "object_position": null,
            "order": null,
            "overflow": null,
            "overflow_x": null,
            "overflow_y": null,
            "padding": null,
            "right": null,
            "top": null,
            "visibility": null,
            "width": null
          }
        },
        "2b040f9f106a4356a9d9b9a69b578910": {
          "model_module": "@jupyter-widgets/base",
          "model_module_version": "1.2.0",
          "model_name": "LayoutModel",
          "state": {
            "_model_module": "@jupyter-widgets/base",
            "_model_module_version": "1.2.0",
            "_model_name": "LayoutModel",
            "_view_count": null,
            "_view_module": "@jupyter-widgets/base",
            "_view_module_version": "1.2.0",
            "_view_name": "LayoutView",
            "align_content": null,
            "align_items": null,
            "align_self": null,
            "border": null,
            "bottom": null,
            "display": null,
            "flex": null,
            "flex_flow": null,
            "grid_area": null,
            "grid_auto_columns": null,
            "grid_auto_flow": null,
            "grid_auto_rows": null,
            "grid_column": null,
            "grid_gap": null,
            "grid_row": null,
            "grid_template_areas": null,
            "grid_template_columns": null,
            "grid_template_rows": null,
            "height": null,
            "justify_content": null,
            "justify_items": null,
            "left": null,
            "margin": null,
            "max_height": null,
            "max_width": null,
            "min_height": null,
            "min_width": null,
            "object_fit": null,
            "object_position": null,
            "order": null,
            "overflow": null,
            "overflow_x": null,
            "overflow_y": null,
            "padding": null,
            "right": null,
            "top": null,
            "visibility": null,
            "width": null
          }
        },
        "3518f8bc18e54933a3c11e71290e7b02": {
          "model_module": "@jupyter-widgets/controls",
          "model_module_version": "1.5.0",
          "model_name": "DescriptionStyleModel",
          "state": {
            "_model_module": "@jupyter-widgets/controls",
            "_model_module_version": "1.5.0",
            "_model_name": "DescriptionStyleModel",
            "_view_count": null,
            "_view_module": "@jupyter-widgets/base",
            "_view_module_version": "1.2.0",
            "_view_name": "StyleView",
            "description_width": ""
          }
        },
        "419776a16cf2425189030ec80b7caf30": {
          "model_module": "@jupyter-widgets/controls",
          "model_module_version": "1.5.0",
          "model_name": "ProgressStyleModel",
          "state": {
            "_model_module": "@jupyter-widgets/controls",
            "_model_module_version": "1.5.0",
            "_model_name": "ProgressStyleModel",
            "_view_count": null,
            "_view_module": "@jupyter-widgets/base",
            "_view_module_version": "1.2.0",
            "_view_name": "StyleView",
            "bar_color": null,
            "description_width": ""
          }
        },
        "73034e61caac434eb2a623d769a0f11c": {
          "model_module": "@jupyter-widgets/base",
          "model_module_version": "1.2.0",
          "model_name": "LayoutModel",
          "state": {
            "_model_module": "@jupyter-widgets/base",
            "_model_module_version": "1.2.0",
            "_model_name": "LayoutModel",
            "_view_count": null,
            "_view_module": "@jupyter-widgets/base",
            "_view_module_version": "1.2.0",
            "_view_name": "LayoutView",
            "align_content": null,
            "align_items": null,
            "align_self": null,
            "border": null,
            "bottom": null,
            "display": null,
            "flex": null,
            "flex_flow": null,
            "grid_area": null,
            "grid_auto_columns": null,
            "grid_auto_flow": null,
            "grid_auto_rows": null,
            "grid_column": null,
            "grid_gap": null,
            "grid_row": null,
            "grid_template_areas": null,
            "grid_template_columns": null,
            "grid_template_rows": null,
            "height": null,
            "justify_content": null,
            "justify_items": null,
            "left": null,
            "margin": null,
            "max_height": null,
            "max_width": null,
            "min_height": null,
            "min_width": null,
            "object_fit": null,
            "object_position": null,
            "order": null,
            "overflow": null,
            "overflow_x": null,
            "overflow_y": null,
            "padding": null,
            "right": null,
            "top": null,
            "visibility": null,
            "width": null
          }
        },
        "96f4c32802d44f5a9250f29b02066fa0": {
          "model_module": "@jupyter-widgets/base",
          "model_module_version": "1.2.0",
          "model_name": "LayoutModel",
          "state": {
            "_model_module": "@jupyter-widgets/base",
            "_model_module_version": "1.2.0",
            "_model_name": "LayoutModel",
            "_view_count": null,
            "_view_module": "@jupyter-widgets/base",
            "_view_module_version": "1.2.0",
            "_view_name": "LayoutView",
            "align_content": null,
            "align_items": null,
            "align_self": null,
            "border": null,
            "bottom": null,
            "display": null,
            "flex": null,
            "flex_flow": null,
            "grid_area": null,
            "grid_auto_columns": null,
            "grid_auto_flow": null,
            "grid_auto_rows": null,
            "grid_column": null,
            "grid_gap": null,
            "grid_row": null,
            "grid_template_areas": null,
            "grid_template_columns": null,
            "grid_template_rows": null,
            "height": null,
            "justify_content": null,
            "justify_items": null,
            "left": null,
            "margin": null,
            "max_height": null,
            "max_width": null,
            "min_height": null,
            "min_width": null,
            "object_fit": null,
            "object_position": null,
            "order": null,
            "overflow": null,
            "overflow_x": null,
            "overflow_y": null,
            "padding": null,
            "right": null,
            "top": null,
            "visibility": null,
            "width": null
          }
        },
        "9dff04b327354fe9a32e7d58939ec9c7": {
          "model_module": "@jupyter-widgets/controls",
          "model_module_version": "1.5.0",
          "model_name": "HTMLModel",
          "state": {
            "_dom_classes": [],
            "_model_module": "@jupyter-widgets/controls",
            "_model_module_version": "1.5.0",
            "_model_name": "HTMLModel",
            "_view_count": null,
            "_view_module": "@jupyter-widgets/controls",
            "_view_module_version": "1.5.0",
            "_view_name": "HTMLView",
            "description": "",
            "description_tooltip": null,
            "layout": "IPY_MODEL_73034e61caac434eb2a623d769a0f11c",
            "placeholder": "​",
            "style": "IPY_MODEL_c9183f7db9a74d18a442dcb5de610bd7",
            "value": "100%"
          }
        },
        "c9183f7db9a74d18a442dcb5de610bd7": {
          "model_module": "@jupyter-widgets/controls",
          "model_module_version": "1.5.0",
          "model_name": "DescriptionStyleModel",
          "state": {
            "_model_module": "@jupyter-widgets/controls",
            "_model_module_version": "1.5.0",
            "_model_name": "DescriptionStyleModel",
            "_view_count": null,
            "_view_module": "@jupyter-widgets/base",
            "_view_module_version": "1.2.0",
            "_view_name": "StyleView",
            "description_width": ""
          }
        },
        "d9ec4728858140c1b1e15884218edadd": {
          "model_module": "@jupyter-widgets/controls",
          "model_module_version": "1.5.0",
          "model_name": "HBoxModel",
          "state": {
            "_dom_classes": [],
            "_model_module": "@jupyter-widgets/controls",
            "_model_module_version": "1.5.0",
            "_model_name": "HBoxModel",
            "_view_count": null,
            "_view_module": "@jupyter-widgets/controls",
            "_view_module_version": "1.5.0",
            "_view_name": "HBoxView",
            "box_style": "",
            "children": [
              "IPY_MODEL_9dff04b327354fe9a32e7d58939ec9c7",
              "IPY_MODEL_0f2fe0b51e0e4337921ad36717b9d873",
              "IPY_MODEL_f0d24856694a409fb846fd411bec9c22"
            ],
            "layout": "IPY_MODEL_1d64cb02e3e5412e84981579274e0968"
          }
        },
        "f0d24856694a409fb846fd411bec9c22": {
          "model_module": "@jupyter-widgets/controls",
          "model_module_version": "1.5.0",
          "model_name": "HTMLModel",
          "state": {
            "_dom_classes": [],
            "_model_module": "@jupyter-widgets/controls",
            "_model_module_version": "1.5.0",
            "_model_name": "HTMLModel",
            "_view_count": null,
            "_view_module": "@jupyter-widgets/controls",
            "_view_module_version": "1.5.0",
            "_view_name": "HTMLView",
            "description": "",
            "description_tooltip": null,
            "layout": "IPY_MODEL_96f4c32802d44f5a9250f29b02066fa0",
            "placeholder": "​",
            "style": "IPY_MODEL_3518f8bc18e54933a3c11e71290e7b02",
            "value": " 528M/528M [00:03&lt;00:00, 120MB/s]"
          }
        }
      }
    }
  },
  "nbformat": 4,
  "nbformat_minor": 0
}
